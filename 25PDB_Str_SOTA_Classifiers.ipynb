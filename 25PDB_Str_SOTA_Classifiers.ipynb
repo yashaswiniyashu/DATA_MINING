{
 "cells": [
  {
   "cell_type": "code",
   "execution_count": 3,
   "metadata": {},
   "outputs": [],
   "source": [
    "import pandas as pd\n",
    "data1 = pd.read_csv('CE_Str_SCOPe_207.csv')\n",
    "labels = data1['Class'].values\n",
    "feat_w2v = data1.drop(['PDBid', 'Class', 'Unnamed: 0'], axis=1).values"
   ]
  },
  {
   "cell_type": "code",
   "execution_count": 4,
   "metadata": {},
   "outputs": [
    {
     "data": {
      "text/plain": [
       "(7906, 400)"
      ]
     },
     "execution_count": 4,
     "metadata": {},
     "output_type": "execute_result"
    }
   ],
   "source": [
    "feat_w2v.shape"
   ]
  },
  {
   "cell_type": "code",
   "execution_count": 5,
   "metadata": {},
   "outputs": [
    {
     "name": "stdout",
     "output_type": "stream",
     "text": [
      "\n",
      "Fold Accuracies:  [0.587641866330391, 0.5562579013906448, 0.6257901390644753, 0.6042983565107459, 0.5784810126582278, 0.610126582278481, 0.5936708860759494, 0.6164556962025316, 0.5987341772151898, 0.6050632911392405]\n",
      "\n",
      "Accuracy NB CF:  0.5976519908865877\n"
     ]
    }
   ],
   "source": [
    "#NB\n",
    "import numpy as np\n",
    "from sklearn.metrics import accuracy_score\n",
    "from sklearn.model_selection import StratifiedKFold\n",
    "from sklearn.metrics import classification_report\n",
    "from sklearn.metrics import confusion_matrix\n",
    "\n",
    "from sklearn.naive_bayes import GaussianNB\n",
    "kf = StratifiedKFold(n_splits=10, shuffle=True, random_state=42)\n",
    "gnb = GaussianNB()\n",
    "import numpy as np\n",
    "from sklearn.metrics import accuracy_score\n",
    "acc_gnb = []\n",
    "for train, test in kf.split(feat_w2v, labels):\n",
    "    X_train, X_test = feat_w2v[train], feat_w2v[test]\n",
    "    Y_train, Y_test = labels[train], labels[test]\n",
    "    \n",
    "    gnb.fit(X_train, Y_train)\n",
    "    pred = gnb.predict(X_test)\n",
    "    acc_gnb.append(accuracy_score(pred, Y_test))\n",
    "\n",
    "print ('\\nFold Accuracies: ', acc_gnb)\n",
    "print ('\\nAccuracy NB CF: ', np.mean(acc_gnb))"
   ]
  },
  {
   "cell_type": "code",
   "execution_count": 6,
   "metadata": {},
   "outputs": [
    {
     "name": "stdout",
     "output_type": "stream",
     "text": [
      "\n",
      "Fold Accuracies:  [0.7465321563682219, 0.706700379266751, 0.7231352718078382, 0.7256637168141593, 0.7075949367088608, 0.7379746835443038, 0.7177215189873418, 0.7354430379746836, 0.7126582278481013, 0.6860759493670886]\n",
      "\n",
      "Accuracy SVM CF:  0.7199499878687351\n"
     ]
    }
   ],
   "source": [
    "#SVM\n",
    "import numpy as np\n",
    "from sklearn.metrics import accuracy_score\n",
    "from sklearn.model_selection import StratifiedKFold\n",
    "from sklearn.metrics import classification_report\n",
    "from sklearn.metrics import confusion_matrix\n",
    "\n",
    "from sklearn.svm import SVC\n",
    "kf = StratifiedKFold(n_splits=10, shuffle=True, random_state=42)\n",
    "a = SVC(kernel='rbf', C=50)\n",
    "import numpy as np\n",
    "from sklearn.metrics import accuracy_score\n",
    "acc_svm = []\n",
    "for train, test in kf.split(feat_w2v, labels):\n",
    "    X_train, X_test = feat_w2v[train], feat_w2v[test]\n",
    "    Y_train, Y_test = labels[train], labels[test]\n",
    "    \n",
    "    a.fit(X_train, Y_train)\n",
    "    pred = a.predict(X_test)\n",
    "    acc_svm.append(accuracy_score(pred, Y_test))\n",
    "\n",
    "print ('\\nFold Accuracies: ', acc_svm)\n",
    "print ('\\nAccuracy SVM CF: ', np.mean(acc_svm))"
   ]
  },
  {
   "cell_type": "code",
   "execution_count": 7,
   "metadata": {},
   "outputs": [
    {
     "name": "stdout",
     "output_type": "stream",
     "text": [
      "\n",
      "Fold Accuracies:  [0.6897856242118537, 0.683944374209861, 0.706700379266751, 0.6915297092288243, 0.6911392405063291, 0.6911392405063291, 0.6810126582278481, 0.6987341772151898, 0.6658227848101266, 0.6721518987341772]\n",
      "\n",
      "Accuracy LogisticRegression CF:  0.687196008691729\n"
     ]
    }
   ],
   "source": [
    "#LR\n",
    "import numpy as np\n",
    "from sklearn.metrics import accuracy_score\n",
    "from sklearn.model_selection import StratifiedKFold\n",
    "from sklearn.metrics import classification_report\n",
    "from sklearn.metrics import confusion_matrix\n",
    "from sklearn.linear_model import LogisticRegression\n",
    "\n",
    "kf = StratifiedKFold(n_splits=10, shuffle=True, random_state=42)\n",
    "svm = LogisticRegression()\n",
    "acc_svm = []\n",
    "for train, test in kf.split(feat_w2v, labels):\n",
    "    X_train, X_test = feat_w2v[train], feat_w2v[test]\n",
    "    Y_train, Y_test = labels[train], labels[test]\n",
    "    \n",
    "    svm.fit(X_train, Y_train)\n",
    "    pred = svm.predict(X_test)\n",
    "    acc_svm.append(accuracy_score(pred, Y_test))\n",
    "\n",
    "print ('\\nFold Accuracies: ', acc_svm)\n",
    "print ('\\nAccuracy LogisticRegression CF: ', np.mean(acc_svm))"
   ]
  },
  {
   "cell_type": "code",
   "execution_count": 8,
   "metadata": {},
   "outputs": [
    {
     "name": "stderr",
     "output_type": "stream",
     "text": [
      "/home/yashaswini/anaconda3/lib/python3.6/site-packages/sklearn/ensemble/weight_boosting.py:29: DeprecationWarning: numpy.core.umath_tests is an internal NumPy module and should not be imported. It will be removed in a future NumPy release.\n",
      "  from numpy.core.umath_tests import inner1d\n"
     ]
    },
    {
     "name": "stdout",
     "output_type": "stream",
     "text": [
      "\n",
      "Fold Accuracies:  [0.7465321563682219, 0.7041719342604298, 0.7319848293299621, 0.7243994943109987, 0.7075949367088608, 0.7455696202531645, 0.710126582278481, 0.739240506329114, 0.7189873417721518, 0.7037974683544304]\n",
      "\n",
      "Accuracy Gradient Boosting CF:  0.7232404869965816\n"
     ]
    }
   ],
   "source": [
    "#GBM\n",
    "import numpy as np\n",
    "from sklearn.metrics import accuracy_score\n",
    "from sklearn.model_selection import StratifiedKFold\n",
    "from sklearn.metrics import classification_report\n",
    "from sklearn.metrics import confusion_matrix\n",
    "from sklearn.ensemble import GradientBoostingClassifier\n",
    "\n",
    "gb = GradientBoostingClassifier(learning_rate=0.01, max_depth=3)\n",
    "kf = StratifiedKFold(n_splits=10, shuffle=True, random_state=42)\n",
    "acc_gb = []\n",
    "\n",
    "for train, test in kf.split(feat_w2v, labels):\n",
    "    X_train, X_test = feat_w2v[train], feat_w2v[test]\n",
    "    Y_train, Y_test = labels[train], labels[test]\n",
    "    gb.fit(X_train, Y_train)\n",
    "    pred = gb.predict(X_test)\n",
    "#    print confusion_matrix(pred, Y_test)\n",
    "#   print classification_report(pred, Y_test)\n",
    "    acc_gb.append(accuracy_score(pred, Y_test))\n",
    "print ('\\nFold Accuracies: ', acc_gb)   \n",
    "print ('\\nAccuracy Gradient Boosting CF: ', np.mean(acc_gb))"
   ]
  },
  {
   "cell_type": "code",
   "execution_count": 9,
   "metadata": {},
   "outputs": [
    {
     "name": "stdout",
     "output_type": "stream",
     "text": [
      "\n",
      "Fold Accuracies:  [0.7490542244640606, 0.6965865992414665, 0.7130214917825537, 0.7079646017699115, 0.7139240506329114, 0.740506329113924, 0.7063291139240506, 0.7278481012658228, 0.6949367088607595, 0.7037974683544304]\n",
      "\n",
      "Accuracy MLP CF:  0.7153968689409892\n"
     ]
    }
   ],
   "source": [
    "#MLP\n",
    "import numpy as np\n",
    "from sklearn.metrics import accuracy_score\n",
    "from sklearn.model_selection import StratifiedKFold\n",
    "from sklearn.metrics import classification_report\n",
    "from sklearn.metrics import confusion_matrix\n",
    "from sklearn.neural_network import MLPClassifier\n",
    "\n",
    "mlp = MLPClassifier(activation='tanh', hidden_layer_sizes=(200, 5), max_iter=1000000, learning_rate='adaptive')\n",
    "kf = StratifiedKFold(n_splits=10, shuffle=True, random_state=42)\n",
    "acc_mlp = []\n",
    "for train, test in kf.split(feat_w2v, labels):\n",
    "    X_train, X_test = feat_w2v[train], feat_w2v[test]\n",
    "    Y_train, Y_test = labels[train], labels[test]\n",
    "    mlp.fit(X_train, Y_train)\n",
    "    pred = mlp.predict(X_test)\n",
    "#    print confusion_matrix(pred, Y_test)\n",
    "#   print classification_report(pred, Y_test)\n",
    "    acc_mlp.append(accuracy_score(pred, Y_test))\n",
    "print ('\\nFold Accuracies: ', acc_mlp )  \n",
    "print ('\\nAccuracy MLP CF: ', np.mean(acc_mlp))"
   ]
  },
  {
   "cell_type": "code",
   "execution_count": 10,
   "metadata": {},
   "outputs": [
    {
     "name": "stdout",
     "output_type": "stream",
     "text": [
      "\n",
      "Fold Accuracies:  [0.6834804539722572, 0.6637168141592921, 0.6826801517067004, 0.6902654867256637, 0.6822784810126582, 0.6822784810126582, 0.6670886075949367, 0.6835443037974683, 0.660759493670886, 0.6620253164556962]\n",
      "\n",
      "Accuracy KNN CF:  0.6758117590108218\n"
     ]
    }
   ],
   "source": [
    "#KNN\n",
    "import numpy as np\n",
    "from sklearn.metrics import accuracy_score\n",
    "from sklearn.model_selection import StratifiedKFold\n",
    "from sklearn.metrics import classification_report\n",
    "from sklearn.metrics import confusion_matrix\n",
    "from sklearn.neighbors import KNeighborsClassifier\n",
    "\n",
    "knn = KNeighborsClassifier(n_neighbors=4)\n",
    "kf = StratifiedKFold(n_splits=10, shuffle=True, random_state=42)\n",
    "acc_knn = []\n",
    "for train, test in kf.split(feat_w2v, labels):\n",
    "    X_train, X_test = feat_w2v[train], feat_w2v[test]\n",
    "    Y_train, Y_test = labels[train], labels[test]\n",
    "    knn.fit(X_train, Y_train)\n",
    "    pred = knn.predict(X_test)\n",
    "#    print confusion_matrix(pred, Y_test)\n",
    "#   print classification_report(pred, Y_test)\n",
    "    acc_knn.append(accuracy_score(pred, Y_test))\n",
    "print ('\\nFold Accuracies: ', acc_knn  )  \n",
    "print ('\\nAccuracy KNN CF: ', np.mean(acc_knn))"
   ]
  },
  {
   "cell_type": "code",
   "execution_count": 11,
   "metadata": {},
   "outputs": [
    {
     "name": "stdout",
     "output_type": "stream",
     "text": [
      "\n",
      "Fold Accuracies:  [0.6885245901639344, 0.6637168141592921, 0.695322376738306, 0.7130214917825537, 0.6822784810126582, 0.7088607594936709, 0.6721518987341772, 0.7012658227848101, 0.6506329113924051, 0.6556962025316456]\n",
      "\n",
      "Accuracy RF CF:  0.6831471348793452\n"
     ]
    }
   ],
   "source": [
    "#RF\n",
    "import numpy as np\n",
    "from sklearn.metrics import accuracy_score\n",
    "from sklearn.model_selection import StratifiedKFold\n",
    "from sklearn.metrics import classification_report\n",
    "from sklearn.metrics import confusion_matrix\n",
    "from sklearn.ensemble import RandomForestClassifier\n",
    "\n",
    "rf = RandomForestClassifier(n_estimators=200)\n",
    "kf = StratifiedKFold(n_splits=10, shuffle=True, random_state=42)\n",
    "acc_rf = []\n",
    "\n",
    "for train, test in kf.split(feat_w2v, labels):\n",
    "    X_train, X_test = feat_w2v[train], feat_w2v[test]\n",
    "    Y_train, Y_test = labels[train], labels[test]\n",
    "    rf.fit(X_train, Y_train)\n",
    "    pred = rf.predict(X_test)\n",
    "    #print confusion_matrix(pred, Y_test)\n",
    "    #print (classification_report(pred, Y_test))\n",
    "    acc_rf.append(accuracy_score(pred, Y_test))\n",
    "    #conf_rf.append(classification_report(pred, Y_test))\n",
    "print ('\\nFold Accuracies: ', acc_rf)    \n",
    "print ('\\nAccuracy RF CF: ', np.mean(acc_rf))"
   ]
  },
  {
   "cell_type": "code",
   "execution_count": null,
   "metadata": {
    "collapsed": true
   },
   "outputs": [],
   "source": []
  },
  {
   "cell_type": "code",
   "execution_count": null,
   "metadata": {
    "collapsed": true
   },
   "outputs": [],
   "source": []
  },
  {
   "cell_type": "code",
   "execution_count": null,
   "metadata": {
    "collapsed": true
   },
   "outputs": [],
   "source": []
  },
  {
   "cell_type": "code",
   "execution_count": null,
   "metadata": {
    "collapsed": true
   },
   "outputs": [],
   "source": []
  },
  {
   "cell_type": "code",
   "execution_count": null,
   "metadata": {
    "collapsed": true
   },
   "outputs": [],
   "source": []
  },
  {
   "cell_type": "code",
   "execution_count": null,
   "metadata": {
    "collapsed": true
   },
   "outputs": [],
   "source": []
  }
 ],
 "metadata": {
  "kernelspec": {
   "display_name": "Python 3",
   "language": "python",
   "name": "python3"
  },
  "language_info": {
   "codemirror_mode": {
    "name": "ipython",
    "version": 3
   },
   "file_extension": ".py",
   "mimetype": "text/x-python",
   "name": "python",
   "nbconvert_exporter": "python",
   "pygments_lexer": "ipython3",
   "version": "3.6.3"
  }
 },
 "nbformat": 4,
 "nbformat_minor": 2
}
