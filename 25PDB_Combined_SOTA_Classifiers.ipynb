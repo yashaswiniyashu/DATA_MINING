{
 "cells": [
  {
   "cell_type": "code",
   "execution_count": 1,
   "metadata": {
    "collapsed": true
   },
   "outputs": [],
   "source": [
    "#Combined\n",
    "import pandas as pd\n",
    "data1 = pd.read_csv('CE_Seq_SCOPe_207.csv')\n",
    "data2 = pd.read_csv('CE_Str_SCOPe_207.csv')\n",
    "\n",
    "features1 = data1.drop(['Unnamed: 0'], axis=1)\n",
    "features2 = data2.drop(['Unnamed: 0', 'Class'], axis=1)\n",
    "features12 = features1.merge(features2, on=['PDBid'], how='inner')\n",
    "\n",
    "labels = features12['Class'].values\n",
    "feat_w2v = features12.drop(['PDBid', 'Class'], axis=1).values"
   ]
  },
  {
   "cell_type": "code",
   "execution_count": 2,
   "metadata": {},
   "outputs": [
    {
     "data": {
      "text/plain": [
       "(7906, 800)"
      ]
     },
     "execution_count": 2,
     "metadata": {},
     "output_type": "execute_result"
    }
   ],
   "source": [
    "feat_w2v.shape"
   ]
  },
  {
   "cell_type": "code",
   "execution_count": 3,
   "metadata": {},
   "outputs": [
    {
     "name": "stdout",
     "output_type": "stream",
     "text": [
      "\n",
      "Fold Accuracies:  [0.6027742749054225, 0.5828065739570164, 0.6422250316055625, 0.6232616940581542, 0.5848101265822785, 0.620253164556962, 0.6113924050632912, 0.6139240506329114, 0.610126582278481, 0.6227848101265823]\n",
      "\n",
      "Accuracy NB CF:  0.6114358713766661\n"
     ]
    }
   ],
   "source": [
    "#NB\n",
    "import numpy as np\n",
    "from sklearn.metrics import accuracy_score\n",
    "from sklearn.model_selection import StratifiedKFold\n",
    "from sklearn.metrics import classification_report\n",
    "from sklearn.metrics import confusion_matrix\n",
    "\n",
    "from sklearn.naive_bayes import GaussianNB\n",
    "kf = StratifiedKFold(n_splits=10, shuffle=True, random_state=42)\n",
    "gnb = GaussianNB()\n",
    "import numpy as np\n",
    "from sklearn.metrics import accuracy_score\n",
    "acc_gnb = []\n",
    "for train, test in kf.split(feat_w2v, labels):\n",
    "    X_train, X_test = feat_w2v[train], feat_w2v[test]\n",
    "    Y_train, Y_test = labels[train], labels[test]\n",
    "    \n",
    "    gnb.fit(X_train, Y_train)\n",
    "    pred = gnb.predict(X_test)\n",
    "    acc_gnb.append(accuracy_score(pred, Y_test))\n",
    "\n",
    "print ('\\nFold Accuracies: ', acc_gnb)\n",
    "print ('\\nAccuracy NB CF: ', np.mean(acc_gnb))"
   ]
  },
  {
   "cell_type": "code",
   "execution_count": 4,
   "metadata": {},
   "outputs": [
    {
     "name": "stdout",
     "output_type": "stream",
     "text": [
      "\n",
      "Fold Accuracies:  [0.7641866330390921, 0.7319848293299621, 0.7509481668773704, 0.7420986093552465, 0.7240506329113924, 0.7620253164556962, 0.7354430379746836, 0.7481012658227848, 0.740506329113924, 0.7139240506329114]\n",
      "\n",
      "Accuracy SVM CF:  0.7413268871513063\n"
     ]
    }
   ],
   "source": [
    "#SVM\n",
    "import numpy as np\n",
    "from sklearn.metrics import accuracy_score\n",
    "from sklearn.model_selection import StratifiedKFold\n",
    "from sklearn.metrics import classification_report\n",
    "from sklearn.metrics import confusion_matrix\n",
    "\n",
    "from sklearn.svm import SVC\n",
    "kf = StratifiedKFold(n_splits=10, shuffle=True, random_state=42)\n",
    "a = SVC(kernel='rbf', C=50)\n",
    "import numpy as np\n",
    "from sklearn.metrics import accuracy_score\n",
    "acc_svm = []\n",
    "for train, test in kf.split(feat_w2v, labels):\n",
    "    X_train, X_test = feat_w2v[train], feat_w2v[test]\n",
    "    Y_train, Y_test = labels[train], labels[test]\n",
    "    \n",
    "    a.fit(X_train, Y_train)\n",
    "    pred = a.predict(X_test)\n",
    "    acc_svm.append(accuracy_score(pred, Y_test))\n",
    "\n",
    "print ('\\nFold Accuracies: ', acc_svm)\n",
    "print ('\\nAccuracy SVM CF: ', np.mean(acc_svm))"
   ]
  },
  {
   "cell_type": "code",
   "execution_count": 5,
   "metadata": {},
   "outputs": [
    {
     "name": "stdout",
     "output_type": "stream",
     "text": [
      "\n",
      "Fold Accuracies:  [0.7301387137452712, 0.706700379266751, 0.7332490518331226, 0.6965865992414665, 0.7075949367088608, 0.7075949367088608, 0.6987341772151898, 0.7253164556962025, 0.6911392405063291, 0.689873417721519]\n",
      "\n",
      "Accuracy LogisticRegression CF:  0.7086927908643573\n"
     ]
    }
   ],
   "source": [
    "#LR\n",
    "import numpy as np\n",
    "from sklearn.metrics import accuracy_score\n",
    "from sklearn.model_selection import StratifiedKFold\n",
    "from sklearn.metrics import classification_report\n",
    "from sklearn.metrics import confusion_matrix\n",
    "from sklearn.linear_model import LogisticRegression\n",
    "\n",
    "kf = StratifiedKFold(n_splits=10, shuffle=True, random_state=42)\n",
    "svm = LogisticRegression()\n",
    "acc_svm = []\n",
    "for train, test in kf.split(feat_w2v, labels):\n",
    "    X_train, X_test = feat_w2v[train], feat_w2v[test]\n",
    "    Y_train, Y_test = labels[train], labels[test]\n",
    "    \n",
    "    svm.fit(X_train, Y_train)\n",
    "    pred = svm.predict(X_test)\n",
    "    acc_svm.append(accuracy_score(pred, Y_test))\n",
    "\n",
    "print ('\\nFold Accuracies: ', acc_svm)\n",
    "print ('\\nAccuracy LogisticRegression CF: ', np.mean(acc_svm))"
   ]
  },
  {
   "cell_type": "code",
   "execution_count": 6,
   "metadata": {},
   "outputs": [
    {
     "name": "stderr",
     "output_type": "stream",
     "text": [
      "/home/yashaswini/anaconda3/lib/python3.6/site-packages/sklearn/ensemble/weight_boosting.py:29: DeprecationWarning: numpy.core.umath_tests is an internal NumPy module and should not be imported. It will be removed in a future NumPy release.\n",
      "  from numpy.core.umath_tests import inner1d\n"
     ]
    },
    {
     "name": "stdout",
     "output_type": "stream",
     "text": [
      "\n",
      "Fold Accuracies:  [0.7414880201765448, 0.7117572692793932, 0.7319848293299621, 0.7243994943109987, 0.7050632911392405, 0.7468354430379747, 0.7075949367088608, 0.7367088607594937, 0.7265822784810126, 0.7113924050632912]\n",
      "\n",
      "Accuracy Gradient Boosting CF:  0.7243806828286774\n"
     ]
    }
   ],
   "source": [
    "#GBM\n",
    "import numpy as np\n",
    "from sklearn.metrics import accuracy_score\n",
    "from sklearn.model_selection import StratifiedKFold\n",
    "from sklearn.metrics import classification_report\n",
    "from sklearn.metrics import confusion_matrix\n",
    "from sklearn.ensemble import GradientBoostingClassifier\n",
    "\n",
    "gb = GradientBoostingClassifier(learning_rate=0.01, max_depth=3)\n",
    "kf = StratifiedKFold(n_splits=10, shuffle=True, random_state=42)\n",
    "acc_gb = []\n",
    "\n",
    "for train, test in kf.split(feat_w2v, labels):\n",
    "    X_train, X_test = feat_w2v[train], feat_w2v[test]\n",
    "    Y_train, Y_test = labels[train], labels[test]\n",
    "    gb.fit(X_train, Y_train)\n",
    "    pred = gb.predict(X_test)\n",
    "#    print confusion_matrix(pred, Y_test)\n",
    "#   print classification_report(pred, Y_test)\n",
    "    acc_gb.append(accuracy_score(pred, Y_test))\n",
    "print ('\\nFold Accuracies: ', acc_gb )  \n",
    "print ('\\nAccuracy Gradient Boosting CF: ', np.mean(acc_gb))"
   ]
  },
  {
   "cell_type": "code",
   "execution_count": 7,
   "metadata": {},
   "outputs": [
    {
     "name": "stdout",
     "output_type": "stream",
     "text": [
      "\n",
      "Fold Accuracies:  [0.7187894073139974, 0.7079646017699115, 0.7370417193426043, 0.729456384323641, 0.7177215189873418, 0.7265822784810126, 0.6873417721518987, 0.6936708860759494, 0.689873417721519, 0.6987341772151898]\n",
      "\n",
      "Accuracy MLP CF:  0.7107176163383067\n"
     ]
    }
   ],
   "source": [
    "#MLP\n",
    "import numpy as np\n",
    "from sklearn.metrics import accuracy_score\n",
    "from sklearn.model_selection import StratifiedKFold\n",
    "from sklearn.metrics import classification_report\n",
    "from sklearn.metrics import confusion_matrix\n",
    "from sklearn.neural_network import MLPClassifier\n",
    "\n",
    "mlp = MLPClassifier(activation='tanh', hidden_layer_sizes=(200, 5), max_iter=1000000, learning_rate='adaptive')\n",
    "kf = StratifiedKFold(n_splits=10, shuffle=True, random_state=42)\n",
    "acc_mlp = []\n",
    "for train, test in kf.split(feat_w2v, labels):\n",
    "    X_train, X_test = feat_w2v[train], feat_w2v[test]\n",
    "    Y_train, Y_test = labels[train], labels[test]\n",
    "    mlp.fit(X_train, Y_train)\n",
    "    pred = mlp.predict(X_test)\n",
    "#    print confusion_matrix(pred, Y_test)\n",
    "#   print classification_report(pred, Y_test)\n",
    "    acc_mlp.append(accuracy_score(pred, Y_test))\n",
    "print ('\\nFold Accuracies: ', acc_mlp )  \n",
    "print ('\\nAccuracy MLP CF: ', np.mean(acc_mlp))"
   ]
  },
  {
   "cell_type": "code",
   "execution_count": 8,
   "metadata": {},
   "outputs": [
    {
     "name": "stdout",
     "output_type": "stream",
     "text": [
      "\n",
      "Fold Accuracies:  [0.6443883984867591, 0.6359039190897599, 0.6536030341340076, 0.6700379266750948, 0.5911392405063292, 0.640506329113924, 0.6417721518987342, 0.669620253164557, 0.660759493670886, 0.6240506329113924]\n",
      "\n",
      "Accuracy KNN CF:  0.6431781379651443\n"
     ]
    }
   ],
   "source": [
    "#KNN\n",
    "import numpy as np\n",
    "from sklearn.metrics import accuracy_score\n",
    "from sklearn.model_selection import StratifiedKFold\n",
    "from sklearn.metrics import classification_report\n",
    "from sklearn.metrics import confusion_matrix\n",
    "from sklearn.neighbors import KNeighborsClassifier\n",
    "\n",
    "knn = KNeighborsClassifier(n_neighbors=4)\n",
    "kf = StratifiedKFold(n_splits=10, shuffle=True, random_state=42)\n",
    "acc_knn = []\n",
    "for train, test in kf.split(feat_w2v, labels):\n",
    "    X_train, X_test = feat_w2v[train], feat_w2v[test]\n",
    "    Y_train, Y_test = labels[train], labels[test]\n",
    "    knn.fit(X_train, Y_train)\n",
    "    pred = knn.predict(X_test)\n",
    "#    print confusion_matrix(pred, Y_test)\n",
    "#   print classification_report(pred, Y_test)\n",
    "    acc_knn.append(accuracy_score(pred, Y_test))\n",
    "print ('\\nFold Accuracies: ', acc_knn)    \n",
    "print ('\\nAccuracy KNN CF: ', np.mean(acc_knn))"
   ]
  },
  {
   "cell_type": "code",
   "execution_count": 9,
   "metadata": {},
   "outputs": [
    {
     "name": "stdout",
     "output_type": "stream",
     "text": [
      "\n",
      "Fold Accuracies:  [0.7200504413619168, 0.7016434892541087, 0.7370417193426043, 0.7332490518331226, 0.6974683544303798, 0.7291139240506329, 0.7113924050632912, 0.739240506329114, 0.7151898734177216, 0.6822784810126582]\n",
      "\n",
      "Accuracy RF CF:  0.7166668246095551\n"
     ]
    }
   ],
   "source": [
    "#RF\n",
    "import numpy as np\n",
    "from sklearn.metrics import accuracy_score\n",
    "from sklearn.model_selection import StratifiedKFold\n",
    "from sklearn.metrics import classification_report\n",
    "from sklearn.metrics import confusion_matrix\n",
    "from sklearn.ensemble import RandomForestClassifier\n",
    "\n",
    "rf = RandomForestClassifier(n_estimators=200)\n",
    "from sklearn.model_selection import KFold\n",
    "kf = StratifiedKFold(n_splits=10, shuffle=True, random_state=42)\n",
    "acc_rf = []\n",
    "\n",
    "for train, test in kf.split(feat_w2v, labels):\n",
    "    X_train, X_test = feat_w2v[train], feat_w2v[test]\n",
    "    Y_train, Y_test = labels[train], labels[test]\n",
    "    rf.fit(X_train, Y_train)\n",
    "    pred = rf.predict(X_test)\n",
    "    #print confusion_matrix(pred, Y_test)\n",
    "    #print (classification_report(pred, Y_test))\n",
    "    acc_rf.append(accuracy_score(pred, Y_test))\n",
    "    #conf_rf.append(classification_report(pred, Y_test))\n",
    "print ('\\nFold Accuracies: ', acc_rf)    \n",
    "print ('\\nAccuracy RF CF: ', np.mean(acc_rf))"
   ]
  },
  {
   "cell_type": "code",
   "execution_count": null,
   "metadata": {
    "collapsed": true
   },
   "outputs": [],
   "source": []
  },
  {
   "cell_type": "code",
   "execution_count": null,
   "metadata": {
    "collapsed": true
   },
   "outputs": [],
   "source": []
  },
  {
   "cell_type": "code",
   "execution_count": null,
   "metadata": {
    "collapsed": true
   },
   "outputs": [],
   "source": []
  },
  {
   "cell_type": "code",
   "execution_count": null,
   "metadata": {
    "collapsed": true
   },
   "outputs": [],
   "source": []
  },
  {
   "cell_type": "code",
   "execution_count": null,
   "metadata": {
    "collapsed": true
   },
   "outputs": [],
   "source": []
  }
 ],
 "metadata": {
  "kernelspec": {
   "display_name": "Python 3",
   "language": "python",
   "name": "python3"
  },
  "language_info": {
   "codemirror_mode": {
    "name": "ipython",
    "version": 3
   },
   "file_extension": ".py",
   "mimetype": "text/x-python",
   "name": "python",
   "nbconvert_exporter": "python",
   "pygments_lexer": "ipython3",
   "version": "3.6.3"
  }
 },
 "nbformat": 4,
 "nbformat_minor": 2
}
