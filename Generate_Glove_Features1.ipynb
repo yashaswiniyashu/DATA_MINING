{
 "cells": [
  {
   "cell_type": "code",
   "execution_count": 18,
   "metadata": {
    "collapsed": true
   },
   "outputs": [],
   "source": [
    "from glove import Corpus, Glove\n",
    "import pandas as pd\n",
    "import numpy as np\n",
    "\n",
    "# l1='FC699'\n",
    "l1='1189'\n",
    "loc = l1+'/'+l1+'_SeqCode_withthresholdC.csv'\n",
    "data = pd.read_csv(loc)\n",
    "\n",
    "dim=400\n",
    "dataset=[]\n",
    "Feature_Type=1\n",
    "\n",
    "if Feature_Type == 1:\n",
    "    data['features'] = data['Sequence']\n",
    "    for z in data['features']:\n",
    "        dataset.append(list(z))\n",
    "elif Feature_Type == 2: \n",
    "    data['features'] = data['Seq-Code']\n",
    "    for z in data['features']:\n",
    "        dataset.append(list(z))\n",
    "else:\n",
    "    data['features'] = data['Str-Code']\n",
    "    for z in data['features']:\n",
    "        dataset.append(z.split(\"--\"))\n",
    "        \n",
    "corpus = Corpus()\n",
    "corpus.fit(dataset, window = 1)\n",
    "glove = Glove(no_components = dim, learning_rate = 0.01)\n",
    "glove.fit(matrix = corpus.matrix, epochs = 30, no_threads = 4, verbose = False)\n",
    "glove.add_dictionary(corpus.dictionary)\n",
    "# glove.save('glove_model')\n",
    "# glove.load('glove_model')\n",
    "\n",
    "def buildWordVector(tokens, size):\n",
    "    vec = np.zeros(size).reshape((1, size))\n",
    "    count = 0.\n",
    "    \n",
    "    if Feature_Type == 1 or Feature_Type == 2:\n",
    "        wrds = tokens\n",
    "    else:\n",
    "        wrds = tokens.split(\"--\")\n",
    "        \n",
    "    for word in wrds:\n",
    "        try:\n",
    "            vec += glove.word_vectors[glove.dictionary[word]].reshape((1, size))\n",
    "            count += 1.\n",
    "        except KeyError: # handling the case where the token is not\n",
    "                         # in the corpus. useful for testing.\n",
    "            continue\n",
    "    if count != 0:\n",
    "        vec /= count\n",
    "    return vec\n",
    "from sklearn.preprocessing import scale\n",
    "feat_glove = np.concatenate([buildWordVector(z, dim) for z in data['features']])\n",
    "feat_glove = scale(feat_glove)\n",
    "\n",
    "df=pd.DataFrame(feat_glove)\n",
    "df['PDBid'] = data['PDBid']\n",
    "df['Class'] = data['Class']\n",
    "\n",
    "if Feature_Type == 1:\n",
    "    df.to_csv(l1+'/CE_Seq_'+l1+'.csv')\n",
    "elif Feature_Type == 2:     \n",
    "    df.to_csv(l1+'/CE_Str_'+l1+'.csv')\n",
    "else:    \n",
    "    df.to_csv(l1+'/CE_StrCode_'+l1+'.csv')    "
   ]
  },
  {
   "cell_type": "code",
   "execution_count": null,
   "metadata": {
    "collapsed": true
   },
   "outputs": [],
   "source": []
  }
 ],
 "metadata": {
  "kernelspec": {
   "display_name": "Python 3",
   "language": "python",
   "name": "python3"
  },
  "language_info": {
   "codemirror_mode": {
    "name": "ipython",
    "version": 3
   },
   "file_extension": ".py",
   "mimetype": "text/x-python",
   "name": "python",
   "nbconvert_exporter": "python",
   "pygments_lexer": "ipython3",
   "version": "3.6.3"
  }
 },
 "nbformat": 4,
 "nbformat_minor": 2
}
