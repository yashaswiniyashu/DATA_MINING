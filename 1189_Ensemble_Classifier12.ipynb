2{
 "cells": [
  {
   "cell_type": "code",
   "execution_count": 25,
   "metadata": {},
   "outputs": [
    {
     "name": "stderr",
     "output_type": "stream",
     "text": [
      "/home/yashaswini/anaconda3/lib/python3.6/site-packages/sklearn/preprocessing/label.py:151: DeprecationWarning: The truth value of an empty array is ambiguous. Returning False, but in future this will result in an error. Use `array.size > 0` to check that an array is not empty.\n",
      "  if diff:\n"
     ]
    },
    {
     "name": "stdout",
     "output_type": "stream",
     "text": [
      "[[24  8  4 14]\n",
      " [ 4 25  5 11]\n",
      " [ 8  3 16  9]\n",
      " [ 9  9 10 11]]\n",
      "             precision    recall  f1-score   support\n",
      "\n",
      "          0       0.53      0.48      0.51        50\n",
      "          1       0.56      0.56      0.56        45\n",
      "          2       0.46      0.44      0.45        36\n",
      "          3       0.24      0.28      0.26        39\n",
      "\n",
      "avg / total       0.46      0.45      0.45       170\n",
      "\n"
     ]
    },
    {
     "name": "stderr",
     "output_type": "stream",
     "text": [
      "/home/yashaswini/anaconda3/lib/python3.6/site-packages/sklearn/preprocessing/label.py:151: DeprecationWarning: The truth value of an empty array is ambiguous. Returning False, but in future this will result in an error. Use `array.size > 0` to check that an array is not empty.\n",
      "  if diff:\n"
     ]
    },
    {
     "name": "stdout",
     "output_type": "stream",
     "text": [
      "[[24  5  9 11]\n",
      " [ 6 28  7 11]\n",
      " [ 6  3 16 10]\n",
      " [ 9  9  3 12]]\n",
      "             precision    recall  f1-score   support\n",
      "\n",
      "          0       0.53      0.49      0.51        49\n",
      "          1       0.62      0.54      0.58        52\n",
      "          2       0.46      0.46      0.46        35\n",
      "          3       0.27      0.36      0.31        33\n",
      "\n",
      "avg / total       0.49      0.47      0.48       169\n",
      "\n"
     ]
    },
    {
     "name": "stderr",
     "output_type": "stream",
     "text": [
      "/home/yashaswini/anaconda3/lib/python3.6/site-packages/sklearn/preprocessing/label.py:151: DeprecationWarning: The truth value of an empty array is ambiguous. Returning False, but in future this will result in an error. Use `array.size > 0` to check that an array is not empty.\n",
      "  if diff:\n"
     ]
    },
    {
     "name": "stdout",
     "output_type": "stream",
     "text": [
      "[[31  8  9 15]\n",
      " [ 6 25  7 13]\n",
      " [ 2  7  9  6]\n",
      " [ 6  5 10 10]]\n",
      "             precision    recall  f1-score   support\n",
      "\n",
      "          0       0.69      0.49      0.57        63\n",
      "          1       0.56      0.49      0.52        51\n",
      "          2       0.26      0.38      0.31        24\n",
      "          3       0.23      0.32      0.27        31\n",
      "\n",
      "avg / total       0.50      0.44      0.46       169\n",
      "\n"
     ]
    },
    {
     "name": "stderr",
     "output_type": "stream",
     "text": [
      "/home/yashaswini/anaconda3/lib/python3.6/site-packages/sklearn/preprocessing/label.py:151: DeprecationWarning: The truth value of an empty array is ambiguous. Returning False, but in future this will result in an error. Use `array.size > 0` to check that an array is not empty.\n",
      "  if diff:\n"
     ]
    },
    {
     "name": "stdout",
     "output_type": "stream",
     "text": [
      "[[24  4  5  4]\n",
      " [ 6 27 10 17]\n",
      " [ 3  2 11  8]\n",
      " [11 11  9 15]]\n",
      "             precision    recall  f1-score   support\n",
      "\n",
      "          0       0.55      0.65      0.59        37\n",
      "          1       0.61      0.45      0.52        60\n",
      "          2       0.31      0.46      0.37        24\n",
      "          3       0.34      0.33      0.33        46\n",
      "\n",
      "avg / total       0.48      0.46      0.46       167\n",
      "\n"
     ]
    },
    {
     "name": "stderr",
     "output_type": "stream",
     "text": [
      "/home/yashaswini/anaconda3/lib/python3.6/site-packages/sklearn/preprocessing/label.py:151: DeprecationWarning: The truth value of an empty array is ambiguous. Returning False, but in future this will result in an error. Use `array.size > 0` to check that an array is not empty.\n",
      "  if diff:\n"
     ]
    },
    {
     "name": "stdout",
     "output_type": "stream",
     "text": [
      "[[28  6 14 13]\n",
      " [ 7 20  5 13]\n",
      " [ 4  5 13  8]\n",
      " [ 5 13  3 10]]\n",
      "             precision    recall  f1-score   support\n",
      "\n",
      "          0       0.64      0.46      0.53        61\n",
      "          1       0.45      0.44      0.45        45\n",
      "          2       0.37      0.43      0.40        30\n",
      "          3       0.23      0.32      0.27        31\n",
      "\n",
      "avg / total       0.46      0.43      0.44       167\n",
      "\n"
     ]
    },
    {
     "name": "stderr",
     "output_type": "stream",
     "text": [
      "/home/yashaswini/anaconda3/lib/python3.6/site-packages/sklearn/preprocessing/label.py:151: DeprecationWarning: The truth value of an empty array is ambiguous. Returning False, but in future this will result in an error. Use `array.size > 0` to check that an array is not empty.\n",
      "  if diff:\n"
     ]
    },
    {
     "name": "stdout",
     "output_type": "stream",
     "text": [
      "[[22  9  8  9]\n",
      " [ 6 18  9 16]\n",
      " [ 5  4 12  7]\n",
      " [11 13  6 12]]\n",
      "             precision    recall  f1-score   support\n",
      "\n",
      "          0       0.50      0.46      0.48        48\n",
      "          1       0.41      0.37      0.39        49\n",
      "          2       0.34      0.43      0.38        28\n",
      "          3       0.27      0.29      0.28        42\n",
      "\n",
      "avg / total       0.39      0.38      0.39       167\n",
      "\n"
     ]
    },
    {
     "name": "stderr",
     "output_type": "stream",
     "text": [
      "/home/yashaswini/anaconda3/lib/python3.6/site-packages/sklearn/preprocessing/label.py:151: DeprecationWarning: The truth value of an empty array is ambiguous. Returning False, but in future this will result in an error. Use `array.size > 0` to check that an array is not empty.\n",
      "  if diff:\n"
     ]
    },
    {
     "name": "stdout",
     "output_type": "stream",
     "text": [
      "[[27  9  6  8]\n",
      " [ 7 16  9 13]\n",
      " [ 5  5 11 11]\n",
      " [ 5 14  8 12]]\n",
      "             precision    recall  f1-score   support\n",
      "\n",
      "          0       0.61      0.54      0.57        50\n",
      "          1       0.36      0.36      0.36        45\n",
      "          2       0.32      0.34      0.33        32\n",
      "          3       0.27      0.31      0.29        39\n",
      "\n",
      "avg / total       0.41      0.40      0.40       166\n",
      "\n"
     ]
    },
    {
     "name": "stderr",
     "output_type": "stream",
     "text": [
      "/home/yashaswini/anaconda3/lib/python3.6/site-packages/sklearn/preprocessing/label.py:151: DeprecationWarning: The truth value of an empty array is ambiguous. Returning False, but in future this will result in an error. Use `array.size > 0` to check that an array is not empty.\n",
      "  if diff:\n"
     ]
    },
    {
     "name": "stdout",
     "output_type": "stream",
     "text": [
      "[[28  7  8 21]\n",
      " [ 7 31  9 12]\n",
      " [ 3  3 12  5]\n",
      " [ 6  3  5  6]]\n",
      "             precision    recall  f1-score   support\n",
      "\n",
      "          0       0.64      0.44      0.52        64\n",
      "          1       0.70      0.53      0.60        59\n",
      "          2       0.35      0.52      0.42        23\n",
      "          3       0.14      0.30      0.19        20\n",
      "\n",
      "avg / total       0.56      0.46      0.49       166\n",
      "\n"
     ]
    },
    {
     "name": "stderr",
     "output_type": "stream",
     "text": [
      "/home/yashaswini/anaconda3/lib/python3.6/site-packages/sklearn/preprocessing/label.py:151: DeprecationWarning: The truth value of an empty array is ambiguous. Returning False, but in future this will result in an error. Use `array.size > 0` to check that an array is not empty.\n",
      "  if diff:\n"
     ]
    },
    {
     "name": "stdout",
     "output_type": "stream",
     "text": [
      "[[26  9  5  7]\n",
      " [ 4 24  7 11]\n",
      " [ 8  4  9 11]\n",
      " [ 6  7 13 15]]\n",
      "             precision    recall  f1-score   support\n",
      "\n",
      "          0       0.59      0.55      0.57        47\n",
      "          1       0.55      0.52      0.53        46\n",
      "          2       0.26      0.28      0.27        32\n",
      "          3       0.34      0.37      0.35        41\n",
      "\n",
      "avg / total       0.45      0.45      0.45       166\n",
      "\n",
      "[[23 10  7 15]\n",
      " [ 8 17 10 16]\n",
      " [ 2  5 12  4]\n",
      " [11 12  5  9]]\n",
      "             precision    recall  f1-score   support\n",
      "\n",
      "          0       0.52      0.42      0.46        55\n",
      "          1       0.39      0.33      0.36        51\n",
      "          2       0.35      0.52      0.42        23\n",
      "          3       0.20      0.24      0.22        37\n",
      "\n",
      "avg / total       0.39      0.37      0.37       166\n",
      "\n",
      "\n",
      "Fold Accuracies:  [0.4470588235294118, 0.47337278106508873, 0.4437869822485207, 0.46107784431137727, 0.4251497005988024, 0.38323353293413176, 0.39759036144578314, 0.463855421686747, 0.4457831325301205, 0.3674698795180723]\n",
      "\n",
      "Accuracy Ensemble Classifier:  0.4308378459868056\n"
     ]
    },
    {
     "name": "stderr",
     "output_type": "stream",
     "text": [
      "/home/yashaswini/anaconda3/lib/python3.6/site-packages/sklearn/preprocessing/label.py:151: DeprecationWarning: The truth value of an empty array is ambiguous. Returning False, but in future this will result in an error. Use `array.size > 0` to check that an array is not empty.\n",
      "  if diff:\n"
     ]
    }
   ],
   "source": [
    "import pandas as pd\n",
    "data1 = pd.read_csv('CE_Seq_1189.csv')\n",
    "labels = data1['Class'].values\n",
    "feat_w2v = data1.drop(['PDBid', 'Class', 'Unnamed: 0'], axis=1).values\n",
    "\n",
    "\n",
    "from sklearn.ensemble import RandomForestClassifier, VotingClassifier, GradientBoostingClassifier\n",
    "from sklearn.neural_network import MLPClassifier\n",
    "from sklearn.metrics import classification_report\n",
    "from sklearn.metrics import confusion_matrix\n",
    "from sklearn.svm import SVC\n",
    "\n",
    "rf = RandomForestClassifier(n_estimators=350, criterion=\"gini\")\n",
    "gb = GradientBoostingClassifier(n_estimators=350, learning_rate=0.01, max_depth=3)\n",
    "sv = SVC(kernel='rbf', C=1, probability=True)\n",
    "eclf = VotingClassifier(estimators=[('rf', rf),('gb', gb),('sv', sv)], voting='soft')\n",
    "\n",
    "import numpy as np\n",
    "from sklearn.metrics import accuracy_score\n",
    "from sklearn.model_selection import KFold\n",
    "from sklearn.model_selection import StratifiedKFold\n",
    "from sklearn.metrics import classification_report\n",
    "from sklearn.metrics import confusion_matrix\n",
    "\n",
    "kf = StratifiedKFold(n_splits=10, shuffle=True, random_state=42)\n",
    "\n",
    "import numpy as np\n",
    "from sklearn.metrics import accuracy_score\n",
    "acc_eclf = []\n",
    "\n",
    "for train, test in kf.split(feat_w2v, labels):\n",
    "    X_train, X_test = feat_w2v[train], feat_w2v[test]\n",
    "    Y_train, Y_test = labels[train], labels[test]\n",
    "    \n",
    "    eclf.fit(X_train, Y_train)\n",
    "    pred = eclf.predict(X_test).round()\n",
    "    print (confusion_matrix(pred, Y_test))\n",
    "    print (classification_report(pred, Y_test))\n",
    "    acc_eclf.append(accuracy_score(pred, Y_test))\n",
    "\n",
    "print ('\\nFold Accuracies: ', acc_eclf)\n",
    "print ('\\nAccuracy Ensemble Classifier: ', np.mean(acc_eclf))"
   ]
  },
  {
   "cell_type": "code",
   "execution_count": 26,
   "metadata": {},
   "outputs": [
    {
     "name": "stderr",
     "output_type": "stream",
     "text": [
      "/home/yashaswini/anaconda3/lib/python3.6/site-packages/sklearn/preprocessing/label.py:151: DeprecationWarning: The truth value of an empty array is ambiguous. Returning False, but in future this will result in an error. Use `array.size > 0` to check that an array is not empty.\n",
      "  if diff:\n"
     ]
    },
    {
     "name": "stdout",
     "output_type": "stream",
     "text": [
      "[[42  0  0  1]\n",
      " [ 0 36  1  5]\n",
      " [ 3  4 21 10]\n",
      " [ 0  5 13 29]]\n",
      "             precision    recall  f1-score   support\n",
      "\n",
      "          0       0.93      0.98      0.95        43\n",
      "          1       0.80      0.86      0.83        42\n",
      "          2       0.60      0.55      0.58        38\n",
      "          3       0.64      0.62      0.63        47\n",
      "\n",
      "avg / total       0.75      0.75      0.75       170\n",
      "\n"
     ]
    },
    {
     "name": "stderr",
     "output_type": "stream",
     "text": [
      "/home/yashaswini/anaconda3/lib/python3.6/site-packages/sklearn/preprocessing/label.py:151: DeprecationWarning: The truth value of an empty array is ambiguous. Returning False, but in future this will result in an error. Use `array.size > 0` to check that an array is not empty.\n",
      "  if diff:\n"
     ]
    },
    {
     "name": "stdout",
     "output_type": "stream",
     "text": [
      "[[37  1  1  4]\n",
      " [ 0 35  0  0]\n",
      " [ 7  0 22  9]\n",
      " [ 1  9 12 31]]\n",
      "             precision    recall  f1-score   support\n",
      "\n",
      "          0       0.82      0.86      0.84        43\n",
      "          1       0.78      1.00      0.88        35\n",
      "          2       0.63      0.58      0.60        38\n",
      "          3       0.70      0.58      0.64        53\n",
      "\n",
      "avg / total       0.73      0.74      0.73       169\n",
      "\n"
     ]
    },
    {
     "name": "stderr",
     "output_type": "stream",
     "text": [
      "/home/yashaswini/anaconda3/lib/python3.6/site-packages/sklearn/preprocessing/label.py:151: DeprecationWarning: The truth value of an empty array is ambiguous. Returning False, but in future this will result in an error. Use `array.size > 0` to check that an array is not empty.\n",
      "  if diff:\n"
     ]
    },
    {
     "name": "stdout",
     "output_type": "stream",
     "text": [
      "[[43  1  4  3]\n",
      " [ 0 36  1  7]\n",
      " [ 1  0 17  8]\n",
      " [ 1  8 13 26]]\n",
      "             precision    recall  f1-score   support\n",
      "\n",
      "          0       0.96      0.84      0.90        51\n",
      "          1       0.80      0.82      0.81        44\n",
      "          2       0.49      0.65      0.56        26\n",
      "          3       0.59      0.54      0.57        48\n",
      "\n",
      "avg / total       0.74      0.72      0.73       169\n",
      "\n"
     ]
    },
    {
     "name": "stderr",
     "output_type": "stream",
     "text": [
      "/home/yashaswini/anaconda3/lib/python3.6/site-packages/sklearn/preprocessing/label.py:151: DeprecationWarning: The truth value of an empty array is ambiguous. Returning False, but in future this will result in an error. Use `array.size > 0` to check that an array is not empty.\n",
      "  if diff:\n"
     ]
    },
    {
     "name": "stdout",
     "output_type": "stream",
     "text": [
      "[[42  0  5  1]\n",
      " [ 1 32  0  5]\n",
      " [ 0  4 21 12]\n",
      " [ 1  8  9 26]]\n",
      "             precision    recall  f1-score   support\n",
      "\n",
      "          0       0.95      0.88      0.91        48\n",
      "          1       0.73      0.84      0.78        38\n",
      "          2       0.60      0.57      0.58        37\n",
      "          3       0.59      0.59      0.59        44\n",
      "\n",
      "avg / total       0.73      0.72      0.72       167\n",
      "\n"
     ]
    },
    {
     "name": "stderr",
     "output_type": "stream",
     "text": [
      "/home/yashaswini/anaconda3/lib/python3.6/site-packages/sklearn/preprocessing/label.py:151: DeprecationWarning: The truth value of an empty array is ambiguous. Returning False, but in future this will result in an error. Use `array.size > 0` to check that an array is not empty.\n",
      "  if diff:\n"
     ]
    },
    {
     "name": "stdout",
     "output_type": "stream",
     "text": [
      "[[38  1  4  2]\n",
      " [ 0 35  0  6]\n",
      " [ 5  0 20  5]\n",
      " [ 1  8 11 31]]\n",
      "             precision    recall  f1-score   support\n",
      "\n",
      "          0       0.86      0.84      0.85        45\n",
      "          1       0.80      0.85      0.82        41\n",
      "          2       0.57      0.67      0.62        30\n",
      "          3       0.70      0.61      0.65        51\n",
      "\n",
      "avg / total       0.75      0.74      0.74       167\n",
      "\n"
     ]
    },
    {
     "name": "stderr",
     "output_type": "stream",
     "text": [
      "/home/yashaswini/anaconda3/lib/python3.6/site-packages/sklearn/preprocessing/label.py:151: DeprecationWarning: The truth value of an empty array is ambiguous. Returning False, but in future this will result in an error. Use `array.size > 0` to check that an array is not empty.\n",
      "  if diff:\n"
     ]
    },
    {
     "name": "stdout",
     "output_type": "stream",
     "text": [
      "[[42  0  2  2]\n",
      " [ 0 36  1  9]\n",
      " [ 0  1 22 10]\n",
      " [ 2  7 10 23]]\n",
      "             precision    recall  f1-score   support\n",
      "\n",
      "          0       0.95      0.91      0.93        46\n",
      "          1       0.82      0.78      0.80        46\n",
      "          2       0.63      0.67      0.65        33\n",
      "          3       0.52      0.55      0.53        42\n",
      "\n",
      "avg / total       0.74      0.74      0.74       167\n",
      "\n"
     ]
    },
    {
     "name": "stderr",
     "output_type": "stream",
     "text": [
      "/home/yashaswini/anaconda3/lib/python3.6/site-packages/sklearn/preprocessing/label.py:151: DeprecationWarning: The truth value of an empty array is ambiguous. Returning False, but in future this will result in an error. Use `array.size > 0` to check that an array is not empty.\n",
      "  if diff:\n"
     ]
    },
    {
     "name": "stdout",
     "output_type": "stream",
     "text": [
      "[[38  1  2  1]\n",
      " [ 0 30  0  6]\n",
      " [ 3  4 19 13]\n",
      " [ 3  9 13 24]]\n",
      "             precision    recall  f1-score   support\n",
      "\n",
      "          0       0.86      0.90      0.88        42\n",
      "          1       0.68      0.83      0.75        36\n",
      "          2       0.56      0.49      0.52        39\n",
      "          3       0.55      0.49      0.52        49\n",
      "\n",
      "avg / total       0.66      0.67      0.66       166\n",
      "\n"
     ]
    },
    {
     "name": "stderr",
     "output_type": "stream",
     "text": [
      "/home/yashaswini/anaconda3/lib/python3.6/site-packages/sklearn/preprocessing/label.py:151: DeprecationWarning: The truth value of an empty array is ambiguous. Returning False, but in future this will result in an error. Use `array.size > 0` to check that an array is not empty.\n",
      "  if diff:\n"
     ]
    },
    {
     "name": "stdout",
     "output_type": "stream",
     "text": [
      "[[38  1  2  3]\n",
      " [ 1 34  0  4]\n",
      " [ 4  1 25 12]\n",
      " [ 1  8  7 25]]\n",
      "             precision    recall  f1-score   support\n",
      "\n",
      "          0       0.86      0.86      0.86        44\n",
      "          1       0.77      0.87      0.82        39\n",
      "          2       0.74      0.60      0.66        42\n",
      "          3       0.57      0.61      0.59        41\n",
      "\n",
      "avg / total       0.74      0.73      0.73       166\n",
      "\n"
     ]
    },
    {
     "name": "stderr",
     "output_type": "stream",
     "text": [
      "/home/yashaswini/anaconda3/lib/python3.6/site-packages/sklearn/preprocessing/label.py:151: DeprecationWarning: The truth value of an empty array is ambiguous. Returning False, but in future this will result in an error. Use `array.size > 0` to check that an array is not empty.\n",
      "  if diff:\n"
     ]
    },
    {
     "name": "stdout",
     "output_type": "stream",
     "text": [
      "[[41  2  4  3]\n",
      " [ 0 33  0 10]\n",
      " [ 2  1 21 10]\n",
      " [ 1  8  9 21]]\n",
      "             precision    recall  f1-score   support\n",
      "\n",
      "          0       0.93      0.82      0.87        50\n",
      "          1       0.75      0.77      0.76        43\n",
      "          2       0.62      0.62      0.62        34\n",
      "          3       0.48      0.54      0.51        39\n",
      "\n",
      "avg / total       0.71      0.70      0.70       166\n",
      "\n",
      "[[37  0  1  2]\n",
      " [ 0 31  1  4]\n",
      " [ 4  1 18  9]\n",
      " [ 3 12 14 29]]\n",
      "             precision    recall  f1-score   support\n",
      "\n",
      "          0       0.84      0.93      0.88        40\n",
      "          1       0.70      0.86      0.78        36\n",
      "          2       0.53      0.56      0.55        32\n",
      "          3       0.66      0.50      0.57        58\n",
      "\n",
      "avg / total       0.69      0.69      0.68       166\n",
      "\n",
      "\n",
      "Fold Accuracies:  [0.7529411764705882, 0.7396449704142012, 0.7218934911242604, 0.7245508982035929, 0.7425149700598802, 0.7365269461077845, 0.6686746987951807, 0.7349397590361446, 0.6987951807228916, 0.6927710843373494]\n",
      "\n",
      "Accuracy Ensemble Classifier:  0.7213253175271872\n"
     ]
    },
    {
     "name": "stderr",
     "output_type": "stream",
     "text": [
      "/home/yashaswini/anaconda3/lib/python3.6/site-packages/sklearn/preprocessing/label.py:151: DeprecationWarning: The truth value of an empty array is ambiguous. Returning False, but in future this will result in an error. Use `array.size > 0` to check that an array is not empty.\n",
      "  if diff:\n"
     ]
    }
   ],
   "source": [
    "import pandas as pd\n",
    "data1 = pd.read_csv('CE_Str_1189.csv')\n",
    "labels = data1['Class'].values\n",
    "feat_w2v = data1.drop(['PDBid', 'Class', 'Unnamed: 0'], axis=1).values\n",
    "\n",
    "\n",
    "from sklearn.ensemble import RandomForestClassifier, VotingClassifier, GradientBoostingClassifier\n",
    "from sklearn.neural_network import MLPClassifier\n",
    "from sklearn.metrics import classification_report\n",
    "from sklearn.metrics import confusion_matrix\n",
    "from sklearn.svm import SVC\n",
    "\n",
    "rf = RandomForestClassifier(n_estimators=350, criterion=\"gini\")\n",
    "gb = GradientBoostingClassifier(n_estimators=350, learning_rate=0.01, max_depth=3)\n",
    "sv = SVC(kernel='rbf', C=1, probability=True)\n",
    "eclf = VotingClassifier(estimators=[('rf', rf),('gb', gb),('sv', sv)], voting='soft')\n",
    "\n",
    "import numpy as np\n",
    "from sklearn.metrics import accuracy_score\n",
    "from sklearn.model_selection import KFold\n",
    "from sklearn.model_selection import StratifiedKFold\n",
    "from sklearn.metrics import classification_report\n",
    "from sklearn.metrics import confusion_matrix\n",
    "\n",
    "kf = StratifiedKFold(n_splits=10, shuffle=True, random_state=42)\n",
    "\n",
    "import numpy as np\n",
    "from sklearn.metrics import accuracy_score\n",
    "acc_eclf = []\n",
    "\n",
    "for train, test in kf.split(feat_w2v, labels):\n",
    "    X_train, X_test = feat_w2v[train], feat_w2v[test]\n",
    "    Y_train, Y_test = labels[train], labels[test]\n",
    "    \n",
    "    eclf.fit(X_train, Y_train)\n",
    "    pred = eclf.predict(X_test).round()\n",
    "    print (confusion_matrix(pred, Y_test))\n",
    "    print (classification_report(pred, Y_test))\n",
    "    acc_eclf.append(accuracy_score(pred, Y_test))\n",
    "\n",
    "print ('\\nFold Accuracies: ', acc_eclf)\n",
    "print ('\\nAccuracy Ensemble Classifier: ', np.mean(acc_eclf))"
   ]
  },
  {
   "cell_type": "code",
   "execution_count": 28,
   "metadata": {},
   "outputs": [
    {
     "name": "stderr",
     "output_type": "stream",
     "text": [
      "/home/yashaswini/anaconda3/lib/python3.6/site-packages/sklearn/preprocessing/label.py:151: DeprecationWarning: The truth value of an empty array is ambiguous. Returning False, but in future this will result in an error. Use `array.size > 0` to check that an array is not empty.\n",
      "  if diff:\n"
     ]
    },
    {
     "name": "stdout",
     "output_type": "stream",
     "text": [
      "[[28  6  9 14]\n",
      " [ 3 31  1  9]\n",
      " [11  2 18  5]\n",
      " [ 3  6  7 17]]\n",
      "             precision    recall  f1-score   support\n",
      "\n",
      "          0       0.62      0.49      0.55        57\n",
      "          1       0.69      0.70      0.70        44\n",
      "          2       0.51      0.50      0.51        36\n",
      "          3       0.38      0.52      0.44        33\n",
      "\n",
      "avg / total       0.57      0.55      0.56       170\n",
      "\n"
     ]
    },
    {
     "name": "stderr",
     "output_type": "stream",
     "text": [
      "/home/yashaswini/anaconda3/lib/python3.6/site-packages/sklearn/preprocessing/label.py:151: DeprecationWarning: The truth value of an empty array is ambiguous. Returning False, but in future this will result in an error. Use `array.size > 0` to check that an array is not empty.\n",
      "  if diff:\n"
     ]
    },
    {
     "name": "stdout",
     "output_type": "stream",
     "text": [
      "[[23  5 11 13]\n",
      " [ 5 31  3  7]\n",
      " [ 8  1 15  8]\n",
      " [ 9  8  6 16]]\n",
      "             precision    recall  f1-score   support\n",
      "\n",
      "          0       0.51      0.44      0.47        52\n",
      "          1       0.69      0.67      0.68        46\n",
      "          2       0.43      0.47      0.45        32\n",
      "          3       0.36      0.41      0.39        39\n",
      "\n",
      "avg / total       0.51      0.50      0.51       169\n",
      "\n"
     ]
    },
    {
     "name": "stderr",
     "output_type": "stream",
     "text": [
      "/home/yashaswini/anaconda3/lib/python3.6/site-packages/sklearn/preprocessing/label.py:151: DeprecationWarning: The truth value of an empty array is ambiguous. Returning False, but in future this will result in an error. Use `array.size > 0` to check that an array is not empty.\n",
      "  if diff:\n"
     ]
    },
    {
     "name": "stdout",
     "output_type": "stream",
     "text": [
      "[[24  5 11 14]\n",
      " [ 3 29  2 15]\n",
      " [ 8  2  9  4]\n",
      " [10  9 13 11]]\n",
      "             precision    recall  f1-score   support\n",
      "\n",
      "          0       0.53      0.44      0.48        54\n",
      "          1       0.64      0.59      0.62        49\n",
      "          2       0.26      0.39      0.31        23\n",
      "          3       0.25      0.26      0.25        43\n",
      "\n",
      "avg / total       0.46      0.43      0.44       169\n",
      "\n"
     ]
    },
    {
     "name": "stderr",
     "output_type": "stream",
     "text": [
      "/home/yashaswini/anaconda3/lib/python3.6/site-packages/sklearn/preprocessing/label.py:151: DeprecationWarning: The truth value of an empty array is ambiguous. Returning False, but in future this will result in an error. Use `array.size > 0` to check that an array is not empty.\n",
      "  if diff:\n"
     ]
    },
    {
     "name": "stdout",
     "output_type": "stream",
     "text": [
      "[[25  4 11 13]\n",
      " [ 4 28  2  9]\n",
      " [ 3  1 15  6]\n",
      " [12 11  7 16]]\n",
      "             precision    recall  f1-score   support\n",
      "\n",
      "          0       0.57      0.47      0.52        53\n",
      "          1       0.64      0.65      0.64        43\n",
      "          2       0.43      0.60      0.50        25\n",
      "          3       0.36      0.35      0.36        46\n",
      "\n",
      "avg / total       0.51      0.50      0.50       167\n",
      "\n"
     ]
    },
    {
     "name": "stderr",
     "output_type": "stream",
     "text": [
      "/home/yashaswini/anaconda3/lib/python3.6/site-packages/sklearn/preprocessing/label.py:151: DeprecationWarning: The truth value of an empty array is ambiguous. Returning False, but in future this will result in an error. Use `array.size > 0` to check that an array is not empty.\n",
      "  if diff:\n"
     ]
    },
    {
     "name": "stdout",
     "output_type": "stream",
     "text": [
      "[[20  4  7 13]\n",
      " [ 5 37  1 10]\n",
      " [ 8  0 18  5]\n",
      " [11  3  9 16]]\n",
      "             precision    recall  f1-score   support\n",
      "\n",
      "          0       0.45      0.45      0.45        44\n",
      "          1       0.84      0.70      0.76        53\n",
      "          2       0.51      0.58      0.55        31\n",
      "          3       0.36      0.41      0.39        39\n",
      "\n",
      "avg / total       0.57      0.54      0.55       167\n",
      "\n"
     ]
    },
    {
     "name": "stderr",
     "output_type": "stream",
     "text": [
      "/home/yashaswini/anaconda3/lib/python3.6/site-packages/sklearn/preprocessing/label.py:151: DeprecationWarning: The truth value of an empty array is ambiguous. Returning False, but in future this will result in an error. Use `array.size > 0` to check that an array is not empty.\n",
      "  if diff:\n"
     ]
    },
    {
     "name": "stdout",
     "output_type": "stream",
     "text": [
      "[[25  5 10 14]\n",
      " [ 2 35  3 13]\n",
      " [ 7  2 15  8]\n",
      " [10  2  7  9]]\n",
      "             precision    recall  f1-score   support\n",
      "\n",
      "          0       0.57      0.46      0.51        54\n",
      "          1       0.80      0.66      0.72        53\n",
      "          2       0.43      0.47      0.45        32\n",
      "          3       0.20      0.32      0.25        28\n",
      "\n",
      "avg / total       0.55      0.50      0.52       167\n",
      "\n"
     ]
    },
    {
     "name": "stderr",
     "output_type": "stream",
     "text": [
      "/home/yashaswini/anaconda3/lib/python3.6/site-packages/sklearn/preprocessing/label.py:151: DeprecationWarning: The truth value of an empty array is ambiguous. Returning False, but in future this will result in an error. Use `array.size > 0` to check that an array is not empty.\n",
      "  if diff:\n"
     ]
    },
    {
     "name": "stdout",
     "output_type": "stream",
     "text": [
      "[[22  2  9  7]\n",
      " [ 4 33  3 14]\n",
      " [13  2 16  7]\n",
      " [ 5  7  6 16]]\n",
      "             precision    recall  f1-score   support\n",
      "\n",
      "          0       0.50      0.55      0.52        40\n",
      "          1       0.75      0.61      0.67        54\n",
      "          2       0.47      0.42      0.44        38\n",
      "          3       0.36      0.47      0.41        34\n",
      "\n",
      "avg / total       0.55      0.52      0.53       166\n",
      "\n"
     ]
    },
    {
     "name": "stderr",
     "output_type": "stream",
     "text": [
      "/home/yashaswini/anaconda3/lib/python3.6/site-packages/sklearn/preprocessing/label.py:151: DeprecationWarning: The truth value of an empty array is ambiguous. Returning False, but in future this will result in an error. Use `array.size > 0` to check that an array is not empty.\n",
      "  if diff:\n"
     ]
    },
    {
     "name": "stdout",
     "output_type": "stream",
     "text": [
      "[[26  7  6  9]\n",
      " [ 3 33  1 11]\n",
      " [ 8  1 20  8]\n",
      " [ 7  3  7 16]]\n",
      "             precision    recall  f1-score   support\n",
      "\n",
      "          0       0.59      0.54      0.57        48\n",
      "          1       0.75      0.69      0.72        48\n",
      "          2       0.59      0.54      0.56        37\n",
      "          3       0.36      0.48      0.42        33\n",
      "\n",
      "avg / total       0.59      0.57      0.58       166\n",
      "\n"
     ]
    },
    {
     "name": "stderr",
     "output_type": "stream",
     "text": [
      "/home/yashaswini/anaconda3/lib/python3.6/site-packages/sklearn/preprocessing/label.py:151: DeprecationWarning: The truth value of an empty array is ambiguous. Returning False, but in future this will result in an error. Use `array.size > 0` to check that an array is not empty.\n",
      "  if diff:\n"
     ]
    },
    {
     "name": "stdout",
     "output_type": "stream",
     "text": [
      "[[24  4 10 12]\n",
      " [ 2 33  3 11]\n",
      " [ 8  1 15  6]\n",
      " [10  6  6 15]]\n",
      "             precision    recall  f1-score   support\n",
      "\n",
      "          0       0.55      0.48      0.51        50\n",
      "          1       0.75      0.67      0.71        49\n",
      "          2       0.44      0.50      0.47        30\n",
      "          3       0.34      0.41      0.37        37\n",
      "\n",
      "avg / total       0.54      0.52      0.53       166\n",
      "\n",
      "[[25  3  6 12]\n",
      " [ 3 31  3 10]\n",
      " [ 9  1 11 12]\n",
      " [ 7  9 14 10]]\n",
      "             precision    recall  f1-score   support\n",
      "\n",
      "          0       0.57      0.54      0.56        46\n",
      "          1       0.70      0.66      0.68        47\n",
      "          2       0.32      0.33      0.33        33\n",
      "          3       0.23      0.25      0.24        40\n",
      "\n",
      "avg / total       0.48      0.46      0.47       166\n",
      "\n",
      "\n",
      "Fold Accuracies:  [0.5529411764705883, 0.5029585798816568, 0.4319526627218935, 0.5029940119760479, 0.5449101796407185, 0.5029940119760479, 0.5240963855421686, 0.572289156626506, 0.5240963855421686, 0.463855421686747]\n",
      "\n",
      "Accuracy Ensemble Classifier:  0.5123087972064543\n"
     ]
    },
    {
     "name": "stderr",
     "output_type": "stream",
     "text": [
      "/home/yashaswini/anaconda3/lib/python3.6/site-packages/sklearn/preprocessing/label.py:151: DeprecationWarning: The truth value of an empty array is ambiguous. Returning False, but in future this will result in an error. Use `array.size > 0` to check that an array is not empty.\n",
      "  if diff:\n"
     ]
    }
   ],
   "source": [
    "import pandas as pd\n",
    "data1 = pd.read_csv('CE_StrCode_1189.csv')\n",
    "labels = data1['Class'].values\n",
    "feat_w2v = data1.drop(['PDBid', 'Class', 'Unnamed: 0'], axis=1).values\n",
    "\n",
    "\n",
    "from sklearn.ensemble import RandomForestClassifier, VotingClassifier, GradientBoostingClassifier\n",
    "from sklearn.neural_network import MLPClassifier\n",
    "from sklearn.metrics import classification_report\n",
    "from sklearn.metrics import confusion_matrix\n",
    "from sklearn.svm import SVC\n",
    "\n",
    "rf = RandomForestClassifier(n_estimators=350, criterion=\"gini\")\n",
    "gb = GradientBoostingClassifier(n_estimators=350, learning_rate=0.01, max_depth=3)\n",
    "sv = SVC(kernel='rbf', C=1, probability=True)\n",
    "eclf = VotingClassifier(estimators=[('rf', rf),('gb', gb),('sv', sv)], voting='soft')\n",
    "\n",
    "import numpy as np\n",
    "from sklearn.metrics import accuracy_score\n",
    "from sklearn.model_selection import KFold\n",
    "from sklearn.model_selection import StratifiedKFold\n",
    "from sklearn.metrics import classification_report\n",
    "from sklearn.metrics import confusion_matrix\n",
    "\n",
    "kf = StratifiedKFold(n_splits=10, shuffle=True, random_state=42)\n",
    "\n",
    "import numpy as np\n",
    "from sklearn.metrics import accuracy_score\n",
    "acc_eclf = []\n",
    "\n",
    "for train, test in kf.split(feat_w2v, labels):\n",
    "    X_train, X_test = feat_w2v[train], feat_w2v[test]\n",
    "    Y_train, Y_test = labels[train], labels[test]\n",
    "    \n",
    "    eclf.fit(X_train, Y_train)\n",
    "    pred = eclf.predict(X_test).round()\n",
    "    print (confusion_matrix(pred, Y_test))\n",
    "    print (classification_report(pred, Y_test))\n",
    "    acc_eclf.append(accuracy_score(pred, Y_test))\n",
    "\n",
    "print ('\\nFold Accuracies: ', acc_eclf)\n",
    "print ('\\nAccuracy Ensemble Classifier: ', np.mean(acc_eclf))"
   ]
  },
  {
   "cell_type": "code",
   "execution_count": null,
   "metadata": {},
   "outputs": [
    {
     "name": "stderr",
     "output_type": "stream",
     "text": [
      "/home/yashaswini/anaconda3/lib/python3.6/site-packages/sklearn/ensemble/weight_boosting.py:29: DeprecationWarning: numpy.core.umath_tests is an internal NumPy module and should not be imported. It will be removed in a future NumPy release.\n",
      "  from numpy.core.umath_tests import inner1d\n"
     ]
    }
   ],
   "source": [
    "#Combined\n",
    "import pandas as pd\n",
    "data1 = pd.read_csv('CE_Seq_1189.csv')\n",
    "data2 = pd.read_csv('CE_Str_1189.csv')\n",
    "data3 = pd.read_csv('CE_StrCode_1189.csv')\n",
    "\n",
    "# features1 = data1.drop(['Unnamed: 0'], axis=1)\n",
    "# features2 = data2.drop(['Unnamed: 0', 'Class'], axis=1)\n",
    "# features3 = data2.drop(['Unnamed: 0', 'Class'], axis=1)\n",
    "# features12 = features1.merge(features2, on=['PDBid'], how='inner')\n",
    "# features123 = features12.merge(features3, on=['PDBid'], how='inner')\n",
    "\n",
    "# labels = features123['Class'].values\n",
    "# feat_w2v = features123.drop(['PDBid', 'Class'], axis=1).values\n",
    "\n",
    "data4 = pd.read_csv('CE_StrCodeC_1189.csv')\n",
    "data5 = pd.read_csv('CE_StrCodeT_1189.csv')\n",
    "data6 = pd.read_csv('CE_StrCodeTC_1189.csv')\n",
    "# data6 = pd.read_csv('CE_StrCode_T_C25PDB.csv')\n",
    "\n",
    "features1 = data1.drop(['Unnamed: 0'], axis=1)\n",
    "features2 = data2.drop(['Unnamed: 0', 'Class'], axis=1)\n",
    "features3 = data3.drop(['Unnamed: 0', 'Class'], axis=1)\n",
    "features4 = data4.drop(['Unnamed: 0', 'Class'], axis=1)\n",
    "features5 = data5.drop(['Unnamed: 0', 'Class'], axis=1)\n",
    "features6 = data6.drop(['Unnamed: 0', 'Class'], axis=1)\n",
    "features12 = features1.merge(features2, on=['PDBid'], how='inner')\n",
    "features123 = features12.merge(features3, on=['PDBid'], how='inner')\n",
    "features1234 = features123.merge(features4, on=['PDBid'], how='inner')\n",
    "features12345 = features1234.merge(features5, on=['PDBid'], how='inner')\n",
    "features123456 = features12345.merge(features6, on=['PDBid'], how='inner')\n",
    "\n",
    "# features1 = data1.drop(['Unnamed: 0'], axis=1)\n",
    "# features2 = data2.drop(['Unnamed: 0', 'Class'], axis=1)\n",
    "# features3 = data3.drop(['Unnamed: 0', 'Class'], axis=1)\n",
    "# features5 = data5.drop(['Unnamed: 0', 'Class'], axis=1)\n",
    "# features12 = features1.merge(features2, on=['PDBid'], how='inner')\n",
    "# features123 = features12.merge(features3, on=['PDBid'], how='inner')\n",
    "# features1235 = features123.merge(features5, on=['PDBid'], how='inner')\n",
    "\n",
    "labels = features123456['Class'].values\n",
    "feat_w2v = features123456.drop(['PDBid', 'Class'], axis=1).values\n",
    "\n",
    "\n",
    "\n",
    "from sklearn.ensemble import RandomForestClassifier, VotingClassifier, GradientBoostingClassifier\n",
    "from sklearn.neural_network import MLPClassifier\n",
    "from sklearn.metrics import classification_report\n",
    "from sklearn.metrics import confusion_matrix\n",
    "from sklearn.svm import SVC\n",
    "\n",
    "rf = RandomForestClassifier(n_estimators=350, criterion=\"gini\")\n",
    "gb = GradientBoostingClassifier(n_estimators=350, learning_rate=0.01, max_depth=3)\n",
    "sv = SVC(kernel='rbf', C=1, probability=True)\n",
    "eclf = VotingClassifier(estimators=[('rf', rf),('gb', gb),('sv', sv)], voting='soft')\n",
    "\n",
    "import numpy as np\n",
    "from sklearn.metrics import accuracy_score\n",
    "from sklearn.model_selection import KFold\n",
    "from sklearn.model_selection import StratifiedKFold\n",
    "from sklearn.metrics import classification_report\n",
    "from sklearn.metrics import confusion_matrix\n",
    "\n",
    "kf = StratifiedKFold(n_splits=10, shuffle=True, random_state=42)\n",
    "\n",
    "import numpy as np\n",
    "from sklearn.metrics import accuracy_score\n",
    "acc_eclf = []\n",
    "\n",
    "for train, test in kf.split(feat_w2v, labels):\n",
    "    X_train, X_test = feat_w2v[train], feat_w2v[test]\n",
    "    Y_train, Y_test = labels[train], labels[test]\n",
    "    \n",
    "    eclf.fit(X_train, Y_train)\n",
    "    pred = eclf.predict(X_test).round()\n",
    "#     print (confusion_matrix(pred, Y_test))\n",
    "#     print (classification_report(pred, Y_test))\n",
    "    acc_eclf.append(accuracy_score(pred, Y_test))\n",
    "\n",
    "print ('\\nFold Accuracies: ', acc_eclf)\n",
    "print ('\\nAccuracy Ensemble Classifier: ', np.mean(acc_eclf))"
   ]
  },
  {
   "cell_type": "code",
   "execution_count": null,
   "metadata": {
    "collapsed": true
   },
   "outputs": [],
   "source": []
  },
  {
   "cell_type": "code",
   "execution_count": null,
   "metadata": {
    "collapsed": true
   },
   "outputs": [],
   "source": []
  },
  {
   "cell_type": "code",
   "execution_count": null,
   "metadata": {
    "collapsed": true
   },
   "outputs": [],
   "source": []
  }
 ],
 "metadata": {
  "kernelspec": {
   "display_name": "Python 3",
   "language": "python",
   "name": "python3"
  },
  "language_info": {
   "codemirror_mode": {
    "name": "ipython",
    "version": 3
   },
   "file_extension": ".py",
   "mimetype": "text/x-python",
   "name": "python",
   "nbconvert_exporter": "python",
   "pygments_lexer": "ipython3",
   "version": "3.6.3"
  }
 },
 "nbformat": 4,
 "nbformat_minor": 2
}
